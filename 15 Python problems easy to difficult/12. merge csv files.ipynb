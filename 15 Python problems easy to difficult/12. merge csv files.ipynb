{
 "cells": [
  {
   "cell_type": "code",
   "execution_count": 1,
   "metadata": {},
   "outputs": [],
   "source": [
    "import csv\n",
    "\n",
    "def merge_csv(csv_list, output_path):\n",
    "    \n",
    "    # build list with all fieldnames\n",
    "    fieldnames = list()\n",
    "    for file in csv_list:\n",
    "        with open(file, 'r') as input_csv:\n",
    "            \n",
    "            #dictreader fn use kore csv file er moddhe theke fieldname gula extract kortesi\n",
    "            fn = csv.DictReader(input_csv).fieldnames\n",
    "            \n",
    "            # ekhn fieldname gula fieldname list e store kortesi extend fn use kore, jodi na fieldname ta aagei list e thake\n",
    "            fieldnames.extend(x for x in fn if x not in fieldnames)\n",
    "            \n",
    "    # write data to output file based on field names\n",
    "    with open(output_path, 'w', newline='') as output_csv:\n",
    "        \n",
    "        # dictwriter diye ekta new csv file er moddhe amar previous fieldname gula insert korlam\n",
    "        writer = csv.DictWriter(output_csv, fieldnames = fieldnames)\n",
    "        writer.writeheader()\n",
    "        \n",
    "        # csv_list e j filegula ase oigula diye loop chalaitesi\n",
    "        for file in csv_list:\n",
    "            with open(file, 'r') as input_csv:\n",
    "                reader = csv.DictReader(input_csv)\n",
    "                \n",
    "                # every csv file er row gula amr new csv file e write kortesi\n",
    "                for row in reader:\n",
    "                    writer.writerow(row)"
   ]
  },
  {
   "cell_type": "code",
   "execution_count": 2,
   "metadata": {},
   "outputs": [],
   "source": [
    "merge_csv(['class1.csv', 'class2.csv'], 'all_students.csv')"
   ]
  },
  {
   "cell_type": "code",
   "execution_count": null,
   "metadata": {},
   "outputs": [],
   "source": []
  }
 ],
 "metadata": {
  "kernelspec": {
   "display_name": "Python 3",
   "language": "python",
   "name": "python3"
  },
  "language_info": {
   "codemirror_mode": {
    "name": "ipython",
    "version": 3
   },
   "file_extension": ".py",
   "mimetype": "text/x-python",
   "name": "python",
   "nbconvert_exporter": "python",
   "pygments_lexer": "ipython3",
   "version": "3.7.4"
  }
 },
 "nbformat": 4,
 "nbformat_minor": 2
}
