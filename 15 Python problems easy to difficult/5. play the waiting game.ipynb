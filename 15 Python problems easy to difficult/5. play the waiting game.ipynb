{
 "cells": [
  {
   "cell_type": "code",
   "execution_count": 6,
   "metadata": {},
   "outputs": [],
   "source": [
    "import time\n",
    "import random"
   ]
  },
  {
   "cell_type": "code",
   "execution_count": 7,
   "metadata": {},
   "outputs": [],
   "source": [
    "def waiting_game():\n",
    "    target = random.randint(2,4) # target seconds to wait\n",
    "    print(f'\\n Your target time is {target} seconds')\n",
    "    \n",
    "    input(' ---Press Enter to Begin--- ')\n",
    "    start = time.perf_counter() # perf_counter() fn er kaj hocche precisely short duration measure kora float value hishebe, e line e time count kora start hocche and shei value ta start variable store korlam\n",
    "    \n",
    "    input(f'\\n...Press Enter again after {target} seconds')\n",
    "    elapsed = time.perf_counter() - start # e line e perf_counter() er count kora shesh hocche and then difference compute kortese\n",
    "    \n",
    "    print(f'\\nElapsed time: {elapsed:0.3f} seconds')\n",
    "    \n",
    "    if elapsed == target:\n",
    "        print('Unbelievable! Perfect Timing!!!')\n",
    "        \n",
    "    elif elapsed < target:\n",
    "        print(f'{target-elapsed:0.3f} seconds too fast')\n",
    "    \n",
    "    else:\n",
    "        print(f'{elapsed-target:0.3f} seconds too slow')"
   ]
  },
  {
   "cell_type": "code",
   "execution_count": 15,
   "metadata": {},
   "outputs": [
    {
     "name": "stdout",
     "output_type": "stream",
     "text": [
      "\n",
      " Your target time is 3 seconds\n",
      " ---Press Enter to Begin--- \n",
      "\n",
      "...Press Enter again after 3 seconds\n",
      "\n",
      "Elapsed time: 2.981 seconds\n",
      "0.019 seconds too fast\n"
     ]
    }
   ],
   "source": [
    "waiting_game()"
   ]
  },
  {
   "cell_type": "code",
   "execution_count": 3,
   "metadata": {},
   "outputs": [
    {
     "name": "stdout",
     "output_type": "stream",
     "text": [
      "my num 23.255\n"
     ]
    }
   ],
   "source": [
    "n = 23.25489\n",
    "print(f'my num {n:0.3f}')"
   ]
  },
  {
   "cell_type": "code",
   "execution_count": null,
   "metadata": {},
   "outputs": [],
   "source": []
  }
 ],
 "metadata": {
  "kernelspec": {
   "display_name": "Python 3",
   "language": "python",
   "name": "python3"
  },
  "language_info": {
   "codemirror_mode": {
    "name": "ipython",
    "version": 3
   },
   "file_extension": ".py",
   "mimetype": "text/x-python",
   "name": "python",
   "nbconvert_exporter": "python",
   "pygments_lexer": "ipython3",
   "version": "3.7.4"
  }
 },
 "nbformat": 4,
 "nbformat_minor": 2
}
