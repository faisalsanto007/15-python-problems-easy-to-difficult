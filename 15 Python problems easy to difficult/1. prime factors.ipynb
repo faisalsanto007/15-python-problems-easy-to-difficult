{
 "cells": [
  {
   "cell_type": "code",
   "execution_count": 13,
   "metadata": {},
   "outputs": [
    {
     "name": "stdout",
     "output_type": "stream",
     "text": [
      "Enter a number: 39\n",
      "Non-Prime!\n"
     ]
    }
   ],
   "source": [
    "# checking a number whether its prime or not\n",
    "\n",
    "a = int(input('Enter a number: '))\n",
    "b=0\n",
    "\n",
    "for i in range(2,a):\n",
    "    if a%i==0:\n",
    "        b=b+1\n",
    "    else:\n",
    "        pass\n",
    "        \n",
    "if b>0:\n",
    "    print(\"Non-Prime!\")\n",
    "else:\n",
    "    print(\"Prime!\")"
   ]
  },
  {
   "cell_type": "code",
   "execution_count": 19,
   "metadata": {},
   "outputs": [
    {
     "name": "stdout",
     "output_type": "stream",
     "text": [
      "Enter a number: 630\n",
      "[2, 3, 5, 7]\n"
     ]
    }
   ],
   "source": [
    "# prime factors of a number..my try\n",
    "\n",
    "a = int(input('Enter a number: '))\n",
    "b = []\n",
    "\n",
    "for i in range(2,a):\n",
    "    if a%i==0:\n",
    "        c = a/i\n",
    "        b.append(i)\n",
    "        a = c\n",
    "    else:\n",
    "        pass\n",
    "\n",
    "print(b)"
   ]
  },
  {
   "cell_type": "code",
   "execution_count": 20,
   "metadata": {},
   "outputs": [],
   "source": [
    "# actual soln\n",
    "\n",
    "def get_prime_factors(n):\n",
    "    \n",
    "    factors = []\n",
    "    divisor = 2\n",
    "    \n",
    "    while (divisor<=n):\n",
    "        if n%divisor==0:\n",
    "            factors.append(divisor)\n",
    "            n = n/divisor\n",
    "        else:\n",
    "            divisor=divisor+1\n",
    "            \n",
    "    return factors"
   ]
  },
  {
   "cell_type": "code",
   "execution_count": 23,
   "metadata": {},
   "outputs": [
    {
     "data": {
      "text/plain": [
       "[2, 3, 3, 5, 7]"
      ]
     },
     "execution_count": 23,
     "metadata": {},
     "output_type": "execute_result"
    }
   ],
   "source": [
    "get_prime_factors(630)"
   ]
  },
  {
   "cell_type": "code",
   "execution_count": null,
   "metadata": {},
   "outputs": [],
   "source": []
  }
 ],
 "metadata": {
  "kernelspec": {
   "display_name": "Python 3",
   "language": "python",
   "name": "python3"
  },
  "language_info": {
   "codemirror_mode": {
    "name": "ipython",
    "version": 3
   },
   "file_extension": ".py",
   "mimetype": "text/x-python",
   "name": "python",
   "nbconvert_exporter": "python",
   "pygments_lexer": "ipython3",
   "version": "3.7.4"
  }
 },
 "nbformat": 4,
 "nbformat_minor": 2
}
