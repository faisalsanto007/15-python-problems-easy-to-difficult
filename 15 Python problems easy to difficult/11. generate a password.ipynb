{
 "cells": [
  {
   "cell_type": "code",
   "execution_count": 1,
   "metadata": {},
   "outputs": [],
   "source": [
    "# writing a python function to generate passphrase\n",
    "\n",
    "# warning- the pseudo random generators of random module should not be used for security perposes. for security or cryptographic\n",
    "# uses, use secrets module\n",
    "\n",
    "# secrets module is used for generating cryptographically strong random numbers suitable for managing data such as passwords,\n",
    "# account authentication, security tokens etc."
   ]
  },
  {
   "cell_type": "code",
   "execution_count": 2,
   "metadata": {},
   "outputs": [],
   "source": [
    "import secrets\n",
    "\n",
    "def generate_passphrase(num_words):\n",
    "    with open('diceware.wordlist.asc', 'r') as file:\n",
    "        lines = file.readlines()[2:7778]\n",
    "        # amar file er line gulate word r number ase, tai ekhane shudhu word gula niye ekta list create korlam\n",
    "        word_list = [line.split()[1] for line in lines] \n",
    "    \n",
    "    # finally secret module diye word_list theke randomly word select kore arekta list create korlam   \n",
    "    words = [secrets.choice(word_list) for i in range(num_words)]\n",
    "\n",
    "    return ' '.join(words)"
   ]
  },
  {
   "cell_type": "code",
   "execution_count": 4,
   "metadata": {},
   "outputs": [
    {
     "data": {
      "text/plain": [
       "'rest fag bred limit leech wrest toe'"
      ]
     },
     "execution_count": 4,
     "metadata": {},
     "output_type": "execute_result"
    }
   ],
   "source": [
    "generate_passphrase(7)"
   ]
  },
  {
   "cell_type": "code",
   "execution_count": null,
   "metadata": {},
   "outputs": [],
   "source": []
  }
 ],
 "metadata": {
  "kernelspec": {
   "display_name": "Python 3",
   "language": "python",
   "name": "python3"
  },
  "language_info": {
   "codemirror_mode": {
    "name": "ipython",
    "version": 3
   },
   "file_extension": ".py",
   "mimetype": "text/x-python",
   "name": "python",
   "nbconvert_exporter": "python",
   "pygments_lexer": "ipython3",
   "version": "3.7.4"
  }
 },
 "nbformat": 4,
 "nbformat_minor": 2
}
