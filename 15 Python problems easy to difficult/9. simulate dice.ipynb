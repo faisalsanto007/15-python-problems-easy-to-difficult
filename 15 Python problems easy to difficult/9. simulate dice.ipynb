{
 "cells": [
  {
   "cell_type": "code",
   "execution_count": 3,
   "metadata": {},
   "outputs": [],
   "source": [
    "from random import randint\n",
    "from collections import Counter\n",
    "\n",
    "def roll_dice(*dice, num_trials=1_000_000):\n",
    "    counts = Counter() # counts object create korlam\n",
    "    \n",
    "    for roll in range(num_trials):\n",
    "        counts[sum((randint(1, sides) for sides in dice))] +=1\n",
    "        \n",
    "    print('\\nOUTCOME\\tPROBABILITY')\n",
    "    for outcome in range(len(dice), sum(dice)+1):\n",
    "        print(f'{outcome}\\t{counts[outcome]*100/num_trials:.2f}%')"
   ]
  },
  {
   "cell_type": "code",
   "execution_count": 4,
   "metadata": {},
   "outputs": [
    {
     "name": "stdout",
     "output_type": "stream",
     "text": [
      "\n",
      "OUTCOME\tPROBABILITY\n",
      "3\t0.70%\n",
      "4\t2.08%\n",
      "5\t4.23%\n",
      "6\t6.97%\n",
      "7\t9.69%\n",
      "8\t12.44%\n",
      "9\t13.95%\n",
      "10\t13.87%\n",
      "11\t12.52%\n",
      "12\t9.71%\n",
      "13\t6.95%\n",
      "14\t4.14%\n",
      "15\t2.07%\n",
      "16\t0.69%\n"
     ]
    }
   ],
   "source": [
    "roll_dice(4,6,6)"
   ]
  },
  {
   "cell_type": "code",
   "execution_count": null,
   "metadata": {},
   "outputs": [],
   "source": []
  }
 ],
 "metadata": {
  "kernelspec": {
   "display_name": "Python 3",
   "language": "python",
   "name": "python3"
  },
  "language_info": {
   "codemirror_mode": {
    "name": "ipython",
    "version": 3
   },
   "file_extension": ".py",
   "mimetype": "text/x-python",
   "name": "python",
   "nbconvert_exporter": "python",
   "pygments_lexer": "ipython3",
   "version": "3.7.4"
  }
 },
 "nbformat": 4,
 "nbformat_minor": 2
}
