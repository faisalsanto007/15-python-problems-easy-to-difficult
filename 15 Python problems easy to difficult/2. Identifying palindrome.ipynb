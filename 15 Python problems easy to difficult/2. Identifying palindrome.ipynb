{
 "cells": [
  {
   "cell_type": "code",
   "execution_count": 4,
   "metadata": {},
   "outputs": [
    {
     "name": "stdout",
     "output_type": "stream",
     "text": [
      "go hang a salami\n",
      "imalas a gnah og\n"
     ]
    }
   ],
   "source": [
    "# single word er jnno kaj kore\n",
    "\n",
    "a = input()\n",
    "b = a.lower()\n",
    "c = b[::-1]\n",
    "b == c\n"
   ]
  },
  {
   "cell_type": "code",
   "execution_count": 17,
   "metadata": {},
   "outputs": [],
   "source": [
    "# actual soln\n",
    "\n",
    "import re\n",
    "\n",
    "def is_palindrome(text):\n",
    "    forwards = ''.join(re.findall(r'[a-z]+', text.lower())) # ekhane join er moddhei amar text er final form ta str hishebe rakhtesi\n",
    "    backwards = forwards[::-1]\n",
    "    print(forwards)\n",
    "    return forwards == backwards"
   ]
  },
  {
   "cell_type": "code",
   "execution_count": 19,
   "metadata": {},
   "outputs": [
    {
     "name": "stdout",
     "output_type": "stream",
     "text": [
      "imalasagnahoggohangasalami\n"
     ]
    },
    {
     "data": {
      "text/plain": [
       "True"
      ]
     },
     "execution_count": 19,
     "metadata": {},
     "output_type": "execute_result"
    }
   ],
   "source": [
    "is_palindrome(\"I'm a lasagna hog, go hang a salami\")"
   ]
  },
  {
   "cell_type": "code",
   "execution_count": null,
   "metadata": {},
   "outputs": [],
   "source": []
  }
 ],
 "metadata": {
  "kernelspec": {
   "display_name": "Python 3",
   "language": "python",
   "name": "python3"
  },
  "language_info": {
   "codemirror_mode": {
    "name": "ipython",
    "version": 3
   },
   "file_extension": ".py",
   "mimetype": "text/x-python",
   "name": "python",
   "nbconvert_exporter": "python",
   "pygments_lexer": "ipython3",
   "version": "3.7.4"
  }
 },
 "nbformat": 4,
 "nbformat_minor": 2
}
