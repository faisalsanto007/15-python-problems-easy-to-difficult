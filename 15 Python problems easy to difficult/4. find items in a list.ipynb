{
 "cells": [
  {
   "cell_type": "code",
   "execution_count": 16,
   "metadata": {},
   "outputs": [],
   "source": [
    "def index_all(search_list, item):\n",
    "    \n",
    "    indices = list() # ekhane shudhu '[]' likhleo same kaj kore\n",
    "    \n",
    "    for i in range(len(search_list)):\n",
    "        if search_list[i] == item: \n",
    "            indices.append([i]) #shudhu 'i' lekha ta vul...ami append kortesi list er item tai '[]' er moddhe 'i' rakhte hobe\n",
    "            \n",
    "        elif isinstance(search_list[i], list): # dekhtesi amr item ta kono list kina\n",
    "            for index in index_all(search_list[i], item): # jodi list hoye thake, taile ami recursively, index_all fn k call kortesi to search that sublist...jodi amar item ta peye thake taile oitar indices return korbe\n",
    "                indices.append([i]+index) # returned indices gula k append kortesi...notice ami concatenate kortesi sublist er indice ta amr main list er sathe, coz taile ami bujhte parbo how deep amr number ta buried\n",
    "                \n",
    "    return indices"
   ]
  },
  {
   "cell_type": "code",
   "execution_count": 17,
   "metadata": {},
   "outputs": [
    {
     "data": {
      "text/plain": [
       "[[0, 0, 1], [0, 1], [1, 1]]"
      ]
     },
     "execution_count": 17,
     "metadata": {},
     "output_type": "execute_result"
    }
   ],
   "source": [
    "example = [[[1,2,3], 2, [1,3]], [1,2,3]]\n",
    "\n",
    "index_all(example, 2)"
   ]
  },
  {
   "cell_type": "code",
   "execution_count": 18,
   "metadata": {},
   "outputs": [
    {
     "data": {
      "text/plain": [
       "[]"
      ]
     },
     "execution_count": 18,
     "metadata": {},
     "output_type": "execute_result"
    }
   ],
   "source": [
    "index_all(example, 4)"
   ]
  },
  {
   "cell_type": "code",
   "execution_count": null,
   "metadata": {},
   "outputs": [],
   "source": []
  }
 ],
 "metadata": {
  "kernelspec": {
   "display_name": "Python 3",
   "language": "python",
   "name": "python3"
  },
  "language_info": {
   "codemirror_mode": {
    "name": "ipython",
    "version": 3
   },
   "file_extension": ".py",
   "mimetype": "text/x-python",
   "name": "python",
   "nbconvert_exporter": "python",
   "pygments_lexer": "ipython3",
   "version": "3.7.4"
  }
 },
 "nbformat": 4,
 "nbformat_minor": 2
}
