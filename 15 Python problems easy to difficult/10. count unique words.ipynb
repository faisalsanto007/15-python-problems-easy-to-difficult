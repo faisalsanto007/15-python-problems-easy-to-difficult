{
 "cells": [
  {
   "cell_type": "code",
   "execution_count": 1,
   "metadata": {},
   "outputs": [],
   "source": [
    "import re\n",
    "from collections import Counter"
   ]
  },
  {
   "cell_type": "code",
   "execution_count": 2,
   "metadata": {},
   "outputs": [],
   "source": [
    "def count_words(path):\n",
    "    \n",
    "    with open(path, encoding='utf-8') as file:\n",
    "        all_words = re.findall(r\"[0-9a-zA-Z-']+\", file.read())\n",
    "        all_words = [word.upper() for word in all_words]\n",
    "        print('\\nTotal Words: ', len(all_words))\n",
    "        \n",
    "        word_counts = Counter()\n",
    "        for word in all_words:\n",
    "            word_counts[word] += 1\n",
    "            \n",
    "        print('\\nTop 20 words: ')\n",
    "        for word in word_counts.most_common(20):\n",
    "            print(word[0], '\\t', word[1])"
   ]
  },
  {
   "cell_type": "code",
   "execution_count": 3,
   "metadata": {},
   "outputs": [
    {
     "name": "stdout",
     "output_type": "stream",
     "text": [
      "\n",
      "Total Words:  968841\n",
      "\n",
      "Top 20 words: \n",
      "THE \t 30062\n",
      "AND \t 28379\n",
      "I \t 22307\n",
      "TO \t 20926\n",
      "OF \t 18813\n",
      "A \t 15950\n",
      "YOU \t 14461\n",
      "MY \t 13173\n",
      "IN \t 12122\n",
      "THAT \t 11924\n",
      "IS \t 9779\n",
      "NOT \t 9053\n",
      "WITH \t 8516\n",
      "ME \t 8242\n",
      "FOR \t 8207\n",
      "IT \t 8177\n",
      "HIS \t 7567\n",
      "BE \t 7355\n",
      "THIS \t 7166\n",
      "YOUR \t 7072\n"
     ]
    }
   ],
   "source": [
    "count_words('shakespeare.txt')"
   ]
  },
  {
   "cell_type": "code",
   "execution_count": null,
   "metadata": {},
   "outputs": [],
   "source": []
  }
 ],
 "metadata": {
  "kernelspec": {
   "display_name": "Python 3",
   "language": "python",
   "name": "python3"
  },
  "language_info": {
   "codemirror_mode": {
    "name": "ipython",
    "version": 3
   },
   "file_extension": ".py",
   "mimetype": "text/x-python",
   "name": "python",
   "nbconvert_exporter": "python",
   "pygments_lexer": "ipython3",
   "version": "3.7.4"
  }
 },
 "nbformat": 4,
 "nbformat_minor": 2
}
