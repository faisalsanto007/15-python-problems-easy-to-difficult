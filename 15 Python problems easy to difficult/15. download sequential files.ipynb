{
 "cells": [
  {
   "cell_type": "code",
   "execution_count": 1,
   "metadata": {},
   "outputs": [],
   "source": [
    "import os\n",
    "import re\n",
    "import urllib.parse\n",
    "import urllib.request\n",
    "       \n",
    "def download_files(first_url, output_dir):\n",
    "    \n",
    "    # checking if output directory exists\n",
    "    if not os.path.isdir(output_dir):\n",
    "        os.mkdir(output_dir)\n",
    "    url_head, url_tail = os.path.split(first_url)\n",
    "    \n",
    "    # index wise download korbe tai number gula collect kortesi\n",
    "    first_index = re.findall(r'[0-9]+', url_tail)[-1]\n",
    "    index_count, error_count = 0, 0\n",
    "    \n",
    "    # 5 bar try korar por o file download na hoile, download shesh korbe\n",
    "    while(error_count < 5):\n",
    "        next_index = str(int(first_index) + index_count)\n",
    "        if first_index[0] == '0': # zero padded\n",
    "            next_index = '0' * (len(first_index) - len(next_index)) + next_index\n",
    "        next_url = urllib.parse.urljoin(url_head, re.sub(first_index, next_index, url_tail))\n",
    "        try:\n",
    "            output_file = os.path.join(output_dir, os.path.basename(next_url))\n",
    "            urllib.request.urlretrieve(next_url, output_file)\n",
    "            print(f'Successfully downloaded {os.path.basename(next_url)}')\n",
    "        except IOError:\n",
    "            print(f'Could not retrieve {next_url}')\n",
    "            error_count += 1\n",
    "        index_count += 1        "
   ]
  },
  {
   "cell_type": "code",
   "execution_count": null,
   "metadata": {},
   "outputs": [
    {
     "name": "stdout",
     "output_type": "stream",
     "text": [
      "Successfully downloaded image001.jpg\n",
      "Successfully downloaded image002.jpg\n",
      "Successfully downloaded image003.jpg\n",
      "Successfully downloaded image004.jpg\n",
      "Successfully downloaded image005.jpg\n",
      "Successfully downloaded image006.jpg\n",
      "Successfully downloaded image007.jpg\n",
      "Successfully downloaded image008.jpg\n",
      "Successfully downloaded image009.jpg\n",
      "Successfully downloaded image010.jpg\n",
      "Successfully downloaded image011.jpg\n",
      "Successfully downloaded image012.jpg\n",
      "Successfully downloaded image013.jpg\n",
      "Successfully downloaded image014.jpg\n",
      "Successfully downloaded image015.jpg\n",
      "Successfully downloaded image016.jpg\n",
      "Successfully downloaded image017.jpg\n",
      "Successfully downloaded image018.jpg\n",
      "Successfully downloaded image019.jpg\n",
      "Successfully downloaded image020.jpg\n",
      "Successfully downloaded image021.jpg\n",
      "Successfully downloaded image022.jpg\n",
      "Successfully downloaded image023.jpg\n",
      "Successfully downloaded image024.jpg\n",
      "Successfully downloaded image025.jpg\n",
      "Successfully downloaded image026.jpg\n",
      "Successfully downloaded image027.jpg\n",
      "Successfully downloaded image028.jpg\n",
      "Successfully downloaded image029.jpg\n",
      "Successfully downloaded image030.jpg\n",
      "Successfully downloaded image031.jpg\n",
      "Successfully downloaded image032.jpg\n",
      "Successfully downloaded image033.jpg\n",
      "Successfully downloaded image034.jpg\n"
     ]
    }
   ],
   "source": [
    "download_files('http://699340.youcanlearnit.net/image001.jpg', '.\\\\images')"
   ]
  },
  {
   "cell_type": "code",
   "execution_count": null,
   "metadata": {},
   "outputs": [],
   "source": []
  }
 ],
 "metadata": {
  "kernelspec": {
   "display_name": "Python 3",
   "language": "python",
   "name": "python3"
  },
  "language_info": {
   "codemirror_mode": {
    "name": "ipython",
    "version": 3
   },
   "file_extension": ".py",
   "mimetype": "text/x-python",
   "name": "python",
   "nbconvert_exporter": "python",
   "pygments_lexer": "ipython3",
   "version": "3.7.4"
  }
 },
 "nbformat": 4,
 "nbformat_minor": 2
}
