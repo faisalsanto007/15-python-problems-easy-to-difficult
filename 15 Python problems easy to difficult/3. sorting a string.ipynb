{
 "cells": [
  {
   "cell_type": "code",
   "execution_count": 3,
   "metadata": {},
   "outputs": [],
   "source": [
    "def sort_words(input):\n",
    "    \n",
    "    # string er prottekta word k alada kore list e rakhlam\n",
    "    words = input.split()\n",
    "    \n",
    "    # ekhane amader prottek ta word k lower kore original form(amra kichu input e hoyto uppercase letter dite pari) er sathe \n",
    "    # append kora hoise (list comprehension)\n",
    "    words = [w.lower() + w for w in words]\n",
    "    \n",
    "    # ekhn word gula easily sort kora jabe\n",
    "    words.sort()\n",
    "    \n",
    "    # amra j extra kore word gula lower kore append korsi shegula baad dicchi\n",
    "    words = [w[len(w)//2:] for w in words] # '//' integer value ashe output e\n",
    "    \n",
    "    # finally, split er maddhome amra jemon word gula list kore felsilam, ekhn join (remember to keep a space) er maddhome \n",
    "    # abar starting string er moto kore felsi\n",
    "    return ' '.join(words)\n"
   ]
  },
  {
   "cell_type": "code",
   "execution_count": 4,
   "metadata": {},
   "outputs": [
    {
     "data": {
      "text/plain": [
       "'am Best I in The the World'"
      ]
     },
     "execution_count": 4,
     "metadata": {},
     "output_type": "execute_result"
    }
   ],
   "source": [
    "sort_words('I am the Best in The World')"
   ]
  },
  {
   "cell_type": "code",
   "execution_count": 5,
   "metadata": {},
   "outputs": [
    {
     "data": {
      "text/plain": [
       "'Cow Duck Hen Human Snake tree'"
      ]
     },
     "execution_count": 5,
     "metadata": {},
     "output_type": "execute_result"
    }
   ],
   "source": [
    "sort_words('Hen Cow Duck Human tree Snake')"
   ]
  },
  {
   "cell_type": "code",
   "execution_count": 7,
   "metadata": {},
   "outputs": [
    {
     "name": "stdout",
     "output_type": "stream",
     "text": [
      "I am The best\n",
      "['iI', 'amam', 'theThe', 'bestbest']\n"
     ]
    }
   ],
   "source": [
    "# showing how the above logic is working\n",
    "\n",
    "# original word er sathe append kortesi lower kore\n",
    "\n",
    "a = input()\n",
    "\n",
    "e = []\n",
    "b = a.split()\n",
    "\n",
    "for c in b:\n",
    "    d = c.lower() + c\n",
    "    e.append(d)\n",
    "    \n",
    "print(e)"
   ]
  },
  {
   "cell_type": "code",
   "execution_count": 9,
   "metadata": {},
   "outputs": [
    {
     "name": "stdout",
     "output_type": "stream",
     "text": [
      "['amam', 'bestbest', 'iI', 'theThe']\n"
     ]
    }
   ],
   "source": [
    "# sort kortesi\n",
    "\n",
    "e.sort()\n",
    "print(e)"
   ]
  },
  {
   "cell_type": "code",
   "execution_count": 19,
   "metadata": {},
   "outputs": [
    {
     "name": "stdout",
     "output_type": "stream",
     "text": [
      "['am', 'best', 'I', 'The']\n",
      "am best I The\n"
     ]
    }
   ],
   "source": [
    "# ekhn extra word ta baad ditesi\n",
    "\n",
    "f = []\n",
    "\n",
    "for g in e:\n",
    "    h = g[len(g)//2:] # divide korar por theke shesh porjonto word gula joma korbo...2 diye vag korar karon amra wordsize double korsilam \n",
    "    f.append(h)\n",
    "\n",
    "print(f)\n",
    "print(' '.join(f)) # join korlam list er word gula"
   ]
  },
  {
   "cell_type": "code",
   "execution_count": 21,
   "metadata": {},
   "outputs": [
    {
     "name": "stdout",
     "output_type": "stream",
     "text": [
      "Enter a sentence: the best in the world\n",
      "['he', 'st', 'n', 'he', 'rld']\n"
     ]
    }
   ],
   "source": [
    "a = input('Enter a sentence: ')\n",
    "\n",
    "b = a.split()\n",
    "d = []\n",
    "\n",
    "for c in b:\n",
    "    e = c[len(c)//2:] # ekhane '//' 2ta divide sign na dile error dibe coz ekta divide sign e, output float value ashe\n",
    "    d.append(e)\n",
    "    \n",
    "print(d)"
   ]
  },
  {
   "cell_type": "code",
   "execution_count": null,
   "metadata": {},
   "outputs": [],
   "source": []
  }
 ],
 "metadata": {
  "kernelspec": {
   "display_name": "Python 3",
   "language": "python",
   "name": "python3"
  },
  "language_info": {
   "codemirror_mode": {
    "name": "ipython",
    "version": 3
   },
   "file_extension": ".py",
   "mimetype": "text/x-python",
   "name": "python",
   "nbconvert_exporter": "python",
   "pygments_lexer": "ipython3",
   "version": "3.7.4"
  }
 },
 "nbformat": 4,
 "nbformat_minor": 2
}
