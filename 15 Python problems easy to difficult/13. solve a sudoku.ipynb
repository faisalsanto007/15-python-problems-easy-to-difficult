{
 "cells": [
  {
   "cell_type": "code",
   "execution_count": 16,
   "metadata": {},
   "outputs": [],
   "source": [
    "from itertools import product\n",
    "\n",
    "def solve_sudoku(puzzle):\n",
    "    \n",
    "    # product fn to iterate through every combination of row and column\n",
    "    for (row, col) in product(range(0,9), repeat=2):\n",
    "        if puzzle[row][col] == 0: # find an unassigned cell\n",
    "            for num in range(1,10):\n",
    "                allowed = True # check if num is allowed in row/col/box\n",
    "                \n",
    "                for i in range(0,9):\n",
    "                    # checking if my number already exist in the row/column\n",
    "                    if (puzzle[i][col] == num) or (puzzle[row][i] == num):\n",
    "                        allowed = False; break # not allowed in row or col\n",
    "                \n",
    "                # same checking ekhaneo kortesi (3*3) box e number ta ase kina check kortesi\n",
    "                for (i,j) in product(range(0,3), repeat=2):\n",
    "                    if puzzle[row- row %3+i][col-col%3+j] == num:\n",
    "                        allowed = False; break # not allowed in box\n",
    "                        \n",
    "                if allowed:\n",
    "                    puzzle[row][col] = num\n",
    "                    trial = solve_sudoku(puzzle)\n",
    "                    if trial:\n",
    "                        return trial\n",
    "                    else:\n",
    "                        puzzle[row][col] = 0\n",
    "            return False # could not place anumber in this cell\n",
    "    return puzzle"
   ]
  },
  {
   "cell_type": "code",
   "execution_count": 17,
   "metadata": {},
   "outputs": [],
   "source": [
    "# printing sudoku grid in a nicely formatted manner\n",
    "\n",
    "def print_sudoku(puzzle):\n",
    "    \n",
    "    # replace zeros with dashes\n",
    "    puzzle = [['*' if num == 0 else num for num in row] for row in puzzle]\n",
    "    print()\n",
    "    \n",
    "    for row in range(0,9):\n",
    "        if ((row%3==0) and (row!=0)):\n",
    "            print('-'*33) # draw horizontal line\n",
    "        for col in range(0,9):\n",
    "            if ((col%3==0) and (col!=0)):\n",
    "                print(' | ', end='') # draw vertical line\n",
    "                \n",
    "            print('', puzzle[row][col], '', end='')\n",
    "        print()\n",
    "        \n",
    "    print()"
   ]
  },
  {
   "cell_type": "code",
   "execution_count": 18,
   "metadata": {},
   "outputs": [
    {
     "ename": "NameError",
     "evalue": "name 'puzzle' is not defined",
     "output_type": "error",
     "traceback": [
      "\u001b[1;31m---------------------------------------------------------------------------\u001b[0m",
      "\u001b[1;31mNameError\u001b[0m                                 Traceback (most recent call last)",
      "\u001b[1;32m<ipython-input-18-20f03a5aab21>\u001b[0m in \u001b[0;36m<module>\u001b[1;34m\u001b[0m\n\u001b[1;32m----> 1\u001b[1;33m \u001b[0msolution\u001b[0m \u001b[1;33m=\u001b[0m \u001b[0msolve_sudoku\u001b[0m\u001b[1;33m(\u001b[0m\u001b[0mpuzzle\u001b[0m\u001b[1;33m)\u001b[0m\u001b[1;33m\u001b[0m\u001b[1;33m\u001b[0m\u001b[0m\n\u001b[0m\u001b[0;32m      2\u001b[0m \u001b[0mprint_sudoku\u001b[0m\u001b[1;33m(\u001b[0m\u001b[0msolution\u001b[0m\u001b[1;33m)\u001b[0m\u001b[1;33m\u001b[0m\u001b[1;33m\u001b[0m\u001b[0m\n",
      "\u001b[1;31mNameError\u001b[0m: name 'puzzle' is not defined"
     ]
    }
   ],
   "source": [
    "solution = solve_sudoku(puzzle)\n",
    "print_sudoku(solution)"
   ]
  },
  {
   "cell_type": "code",
   "execution_count": null,
   "metadata": {},
   "outputs": [],
   "source": []
  }
 ],
 "metadata": {
  "kernelspec": {
   "display_name": "Python 3",
   "language": "python",
   "name": "python3"
  },
  "language_info": {
   "codemirror_mode": {
    "name": "ipython",
    "version": 3
   },
   "file_extension": ".py",
   "mimetype": "text/x-python",
   "name": "python",
   "nbconvert_exporter": "python",
   "pygments_lexer": "ipython3",
   "version": "3.7.4"
  }
 },
 "nbformat": 4,
 "nbformat_minor": 2
}
