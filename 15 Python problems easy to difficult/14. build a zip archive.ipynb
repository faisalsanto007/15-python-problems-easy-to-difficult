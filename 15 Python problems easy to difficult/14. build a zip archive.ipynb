{
 "cells": [
  {
   "cell_type": "code",
   "execution_count": 1,
   "metadata": {},
   "outputs": [],
   "source": [
    "# to search directory and manipulate file paths\n",
    "import os\n",
    "from zipfile import ZipFile\n",
    "\n",
    "def zip_all(search_dir, extension_list, output_path):\n",
    "    with ZipFile(output_path, 'w') as output_zip:\n",
    "        \n",
    "        # walk fn to explore the search directory and all of its subdirectory...root for main directory, dirs for sub-directory\n",
    "        for root, dirs, files in os.walk(search_dir):\n",
    "            rel_path = os.path.relpath(root, search_dir)\n",
    "            \n",
    "            for file in files:\n",
    "                \n",
    "                # file name theke extension gula alada kortesi\n",
    "                name, ext = os.path.splitext(file)\n",
    "                if ext.lower() in extension_list:\n",
    "                    output_zip.write(os.path.join(root, file), arcname = os.path.join(rel_path, file))"
   ]
  },
  {
   "cell_type": "code",
   "execution_count": 2,
   "metadata": {},
   "outputs": [],
   "source": [
    "zip_all('C:\\\\Users\\\\faisa\\\\Downloads\\\\Jupyter Notebook\\\\problem solving\\\\15 Python problems easy to difficult\\\\my_stuff', \n",
    "        ['.jpg', '.txt'], 'my_stuff.zip')"
   ]
  },
  {
   "cell_type": "code",
   "execution_count": null,
   "metadata": {},
   "outputs": [],
   "source": []
  }
 ],
 "metadata": {
  "kernelspec": {
   "display_name": "Python 3",
   "language": "python",
   "name": "python3"
  },
  "language_info": {
   "codemirror_mode": {
    "name": "ipython",
    "version": 3
   },
   "file_extension": ".py",
   "mimetype": "text/x-python",
   "name": "python",
   "nbconvert_exporter": "python",
   "pygments_lexer": "ipython3",
   "version": "3.7.4"
  }
 },
 "nbformat": 4,
 "nbformat_minor": 2
}
